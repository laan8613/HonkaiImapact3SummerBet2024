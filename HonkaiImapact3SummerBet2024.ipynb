{
 "cells": [
  {
   "cell_type": "code",
   "execution_count": 1,
   "id": "13ebeac3",
   "metadata": {},
   "outputs": [],
   "source": [
    "import random"
   ]
  },
  {
   "cell_type": "code",
   "execution_count": 2,
   "id": "6cfc6766",
   "metadata": {},
   "outputs": [],
   "source": [
    "class State():\n",
    "    def __init__(self, name, value, reciprocal, src):\n",
    "        self._name = name\n",
    "        self._value = value\n",
    "        self._src = src\n",
    "        self._reciprocal = reciprocal\n",
    "\n",
    "    def get_name(self):\n",
    "        return self._name\n",
    "        \n",
    "    def get_value(self):\n",
    "        return self._value\n",
    "    \n",
    "    def round_down(self, value=1):\n",
    "        self._reciprocal -= value\n",
    "        if self._reciprocal <= 0:\n",
    "            return False\n",
    "        return True\n",
    "    \n",
    "    def set_state(self, value, reciprocal, src):\n",
    "        self._value = value\n",
    "        self._src = src\n",
    "        self._reciprocal = reciprocal"
   ]
  },
  {
   "cell_type": "code",
   "execution_count": 3,
   "id": "1210a318",
   "metadata": {},
   "outputs": [],
   "source": [
    "class Character():\n",
    "    def __init__(self,\n",
    "                 life,\n",
    "                 attack,\n",
    "                 defence,\n",
    "                 speed):\n",
    "        self._life = life\n",
    "        self._attack = attack\n",
    "        self._defence = defence\n",
    "        self._speed = speed\n",
    "        self._states = []\n",
    "        self._action_count = 0\n",
    "        \n",
    "    def action(self, target):\n",
    "        self._action_count += 1\n",
    "        for state in self._states:\n",
    "            if state.get_name() == 'paralysis':\n",
    "                return False\n",
    "        for state in self._states:\n",
    "            if state.get_name() == 'dominate':\n",
    "                self._normal_attack(self)\n",
    "        return True\n",
    "            \n",
    "    \n",
    "    def _normal_attack(self, target):\n",
    "        attack = self._attack\n",
    "        for state in self._states:\n",
    "            if state.get_name() == 'attack change':\n",
    "                attack += state.get_value()\n",
    "        target.damaged(attack)\n",
    "        \n",
    "    def _active_skill(self, target):\n",
    "        return\n",
    "    \n",
    "    def _passive_skill(self, target):\n",
    "        return\n",
    "    \n",
    "    def damaged(self, value, true_damage = False):\n",
    "        if true_damage:\n",
    "            self._life -= value\n",
    "        else:\n",
    "            defence = self._defence\n",
    "            for state in self._states:\n",
    "                if state.get_name() == 'defence change':\n",
    "                    defence += state.get_value()\n",
    "            damage = value - defence\n",
    "            if damage <0:\n",
    "                damage = 0\n",
    "            self._life -= damage\n",
    "        \n",
    "    def get_speed(self):\n",
    "        speed = self._speed\n",
    "        for state in self._states:\n",
    "            if state.get_name() == 'speed change':\n",
    "                speed += state.get_value()\n",
    "        return speed\n",
    "    \n",
    "    def get_life(self):\n",
    "        return self._life\n",
    "    \n",
    "    def set_state(self, name, value, reciprocal, src, independent=False):\n",
    "        if independent:\n",
    "            self._states.append(State(name, value, reciprocal, src))\n",
    "        else:\n",
    "            for state in self._states:\n",
    "                if state.get_name() == name:\n",
    "                    state.set_state(value, reciprocal, src)\n",
    "                    return\n",
    "            \n",
    "    def round_end(self):\n",
    "        new_state = []\n",
    "        for state in self._states:\n",
    "            if state.round_down():\n",
    "                new_state.append(state)\n",
    "        self._states = new_state"
   ]
  },
  {
   "cell_type": "code",
   "execution_count": 24,
   "id": "e19787b5",
   "metadata": {},
   "outputs": [],
   "source": [
    "class Thelema(Character):\n",
    "    def __init__(self,\n",
    "                 life=100,\n",
    "                 attack=19,\n",
    "                 defence=9,\n",
    "                 speed=23):\n",
    "        super(Thelema, self).__init__(life, attack, defence, speed)\n",
    "        \n",
    "    def action(self, target):\n",
    "        if not super().action(target):\n",
    "            return\n",
    "        if self._action_count % 2 == 0:\n",
    "            self._active_skill(target)\n",
    "        self._normal_attack(target)\n",
    "        self._passive_skill(target)\n",
    "    \n",
    "    def _active_skill(self, target):\n",
    "        target.damaged(16)\n",
    "        \n",
    "    def _passive_skill(self, target):\n",
    "        if target != self and random.random() < 0.2:\n",
    "            target.set_state('dominate', None, 2, self)"
   ]
  },
  {
   "cell_type": "code",
   "execution_count": 5,
   "id": "ee8425b1",
   "metadata": {},
   "outputs": [],
   "source": [
    "class Songque(Character):\n",
    "    def __init__(self,\n",
    "                 life=100,\n",
    "                 attack=19,\n",
    "                 defence=9,\n",
    "                 speed=20):\n",
    "        super(Songque, self).__init__(life, attack, defence, speed)\n",
    "        self._shadow = 0\n",
    "        \n",
    "    def action(self, target):\n",
    "        if not super().action(target):\n",
    "            return\n",
    "        if self._action_count % 3 == 0:\n",
    "            self._active_skill(target)\n",
    "        self._normal_attack(target)\n",
    "        self._passive_skill(target)\n",
    "        \n",
    "    def _normal_attack(self, target):\n",
    "        attack = self._attack\n",
    "        for state in self._states:\n",
    "            if state.get_name() == 'attack change':\n",
    "                attack += state.get_value()\n",
    "        attack += 4*self._shadow\n",
    "        target.damaged(attack)\n",
    "        \n",
    "    def _active_skill(self, target):\n",
    "        target.damaged(15 + 4*self._shadow)\n",
    "    \n",
    "    def _passive_skill(self, target):\n",
    "        if random.random() < 0.25 and self._shadow < 3:\n",
    "            self._shadow += 1\n",
    "            target.set_state('defence change', -4, 99, self, independent=True)\n",
    "            target.set_state('speed change', -2, 99, self, independent=True)"
   ]
  },
  {
   "cell_type": "code",
   "execution_count": 21,
   "id": "a7df9dee",
   "metadata": {},
   "outputs": [],
   "source": [
    "class Dreamseeker(Character):\n",
    "    def __init__(self,\n",
    "                 life=100,\n",
    "                 attack=16,\n",
    "                 defence=8,\n",
    "                 speed=21):\n",
    "        super(Dreamseeker, self).__init__(life, attack, defence, speed)\n",
    "        \n",
    "    def action(self, target):\n",
    "        if not super().action(target):\n",
    "            return\n",
    "        self._passive_skill(target)\n",
    "        if self._action_count % 3 ==0:\n",
    "            self._active_skill(target)\n",
    "        else:\n",
    "            self._normal_attack(target)\n",
    "        \n",
    "        \n",
    "    def _active_skill(self, target):\n",
    "        attack = self._attack\n",
    "        for state in self._states:\n",
    "            if state.get_name() == 'attack change':\n",
    "                attack += state.get_value()\n",
    "        attack = 1.3*attack\n",
    "        target.damaged(int(attack), true_damage=True)\n",
    "    \n",
    "    def _passive_skill(self, target):\n",
    "        if random.random() < 0.7:\n",
    "            if self._life < 50:\n",
    "                self.set_state('attack change', 30-self._attack, 1, self)\n",
    "            else:\n",
    "                self.set_state('attack change', 24-self._attack, 1, self)"
   ]
  },
  {
   "cell_type": "code",
   "execution_count": 7,
   "id": "0d957f67",
   "metadata": {},
   "outputs": [],
   "source": [
    "class Senadina(Character):\n",
    "    def __init__(self,\n",
    "                 life=100,\n",
    "                 attack=21,\n",
    "                 defence=6,\n",
    "                 speed=23):\n",
    "        super(Senadina, self).__init__(life, attack, defence, speed)\n",
    "        \n",
    "    def action(self, target):\n",
    "        if not super().action(target):\n",
    "            return\n",
    "        self._normal_attack(target)\n",
    "        self._passive_skill(target)\n",
    "        if self._action_count % 3 == 0:\n",
    "            self._active_skill(target)\n",
    "            self._passive_skill(target)\n",
    "        \n",
    "        \n",
    "    def _active_skill(self, target):\n",
    "        self.set_state(\"lightning\", None, 2, self)\n",
    "        target.damaged(15)\n",
    "        target.set_state(\"defence change\", -5, 2, self)\n",
    "    \n",
    "    def _passive_skill(self, target):\n",
    "        for state in self._states:\n",
    "            if state.get_name() == 'lightning':\n",
    "                effect_count = random.randint(1, 3)\n",
    "                target.damaged(effect_count*3, true_damage=True)\n",
    "                if effect_count == 3:\n",
    "                    target.set_state('paralysis', None, 2, self)"
   ]
  },
  {
   "cell_type": "code",
   "execution_count": null,
   "id": "a38990d6",
   "metadata": {},
   "outputs": [],
   "source": [
    "class Seraphim(Character):\n",
    "    def __init__(self,\n",
    "                 life=100,\n",
    "                 attack=20,\n",
    "                 defence=8,\n",
    "                 speed=15):\n",
    "        super(Seraphim, self).__init__(life, attack, defence, speed)\n",
    "        \n",
    "    def action(self, target):\n",
    "        if not super().action(target):\n",
    "            return\n",
    "        "
   ]
  },
  {
   "cell_type": "code",
   "execution_count": 15,
   "id": "5e558011",
   "metadata": {},
   "outputs": [],
   "source": [
    "def run(p1, p2):\n",
    "    while p1.get_life() > 0 and p2.get_life() > 0:\n",
    "        if p1.get_speed() > p2.get_speed():\n",
    "            p1.action(p2)\n",
    "            p1.round_end()\n",
    "            if p1.get_life() <= 0 or p2.get_life() <= 0:\n",
    "                break\n",
    "            p2.action(p1)\n",
    "            p2.round_end()\n",
    "        else:\n",
    "            p2.action(p1)\n",
    "            p2.round_end()\n",
    "            if p1.get_life() <= 0 or p2.get_life() <= 0:\n",
    "                break\n",
    "            p1.action(p2)\n",
    "            p1.round_end()\n",
    "    if p1.get_life() <= 0:\n",
    "        return 0\n",
    "    else:\n",
    "        return 1"
   ]
  },
  {
   "cell_type": "code",
   "execution_count": 25,
   "id": "cd620950",
   "metadata": {},
   "outputs": [
    {
     "name": "stdout",
     "output_type": "stream",
     "text": [
      "28610(0.8869) 71390(1.0709)\n"
     ]
    }
   ],
   "source": [
    "count = 0\n",
    "for i in range(100000):\n",
    "    count += run(Thelema(), Senadina())\n",
    "print(\"{:d}({:.4f}) {:d}({:.4f})\".format(count, (count*3.1)/100000,100000-count,(100000-count)*1.5/100000))"
   ]
  },
  {
   "cell_type": "code",
   "execution_count": 26,
   "id": "c13e256c",
   "metadata": {},
   "outputs": [
    {
     "name": "stdout",
     "output_type": "stream",
     "text": [
      "48800(1.5128) 51200(0.7680)\n"
     ]
    }
   ],
   "source": [
    "count = 0\n",
    "for i in range(50000):\n",
    "    count += run(Thelema(), Senadina())\n",
    "for i in range(50000):\n",
    "    count += 1 - run(Senadina(), Thelema())\n",
    "print(\"{:d}({:.4f}) {:d}({:.4f})\".format(count, (count*3.1)/100000,100000-count,(100000-count)*1.5/100000))"
   ]
  },
  {
   "cell_type": "code",
   "execution_count": 27,
   "id": "97b885c4",
   "metadata": {},
   "outputs": [
    {
     "name": "stdout",
     "output_type": "stream",
     "text": [
      "68968(2.1380) 31032(0.4655)\n"
     ]
    }
   ],
   "source": [
    "count = 0\n",
    "for i in range(100000):\n",
    "    count += 1 - run(Senadina(), Thelema())\n",
    "print(\"{:d}({:.4f}) {:d}({:.4f})\".format(count, (count*3.1)/100000,100000-count,(100000-count)*1.5/100000))"
   ]
  },
  {
   "cell_type": "code",
   "execution_count": 28,
   "id": "89af02e6",
   "metadata": {},
   "outputs": [
    {
     "name": "stdout",
     "output_type": "stream",
     "text": [
      "72888(1.0204) 27112(1.0031)\n"
     ]
    }
   ],
   "source": [
    "count = 0\n",
    "for i in range(100000):\n",
    "    count += run(Senadina(), Dreamseeker())\n",
    "print(\"{:d}({:.4f}) {:d}({:.4f})\".format(count, (count*1.4)/100000,100000-count,(100000-count)*3.7/100000))"
   ]
  },
  {
   "cell_type": "code",
   "execution_count": 29,
   "id": "144d13bf",
   "metadata": {},
   "outputs": [
    {
     "name": "stdout",
     "output_type": "stream",
     "text": [
      "49031(0.6864) 50969(1.6310)\n"
     ]
    }
   ],
   "source": [
    "count = 0\n",
    "for i in range(100000):\n",
    "    count += run(Thelema(), Dreamseeker())\n",
    "print(\"{:d}({:.4f}) {:d}({:.4f})\".format(count, (count*1.4)/100000,100000-count,(100000-count)*3.2/100000))"
   ]
  }
 ],
 "metadata": {
  "kernelspec": {
   "display_name": "Python 3 (ipykernel)",
   "language": "python",
   "name": "python3"
  },
  "language_info": {
   "codemirror_mode": {
    "name": "ipython",
    "version": 3
   },
   "file_extension": ".py",
   "mimetype": "text/x-python",
   "name": "python",
   "nbconvert_exporter": "python",
   "pygments_lexer": "ipython3",
   "version": "3.11.5"
  }
 },
 "nbformat": 4,
 "nbformat_minor": 5
}
